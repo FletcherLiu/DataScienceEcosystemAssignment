{
  "metadata": {
    "kernelspec": {
      "name": "xpython",
      "display_name": "Python 3.13 (XPython)",
      "language": "python"
    },
    "language_info": {
      "file_extension": ".py",
      "mimetype": "text/x-python",
      "name": "python",
      "version": "3.13.1"
    }
  },
  "nbformat_minor": 5,
  "nbformat": 4,
  "cells": [
    {
      "id": "56a9197c-b06a-49e9-be59-99891744d002",
      "cell_type": "markdown",
      "source": "# Data Science Tools and Ecosystem",
      "metadata": {}
    },
    {
      "id": "0b7b21cc-4af6-4c65-afe2-b743717bd7a7",
      "cell_type": "markdown",
      "source": "In this notebook, Data Science Tools and Ecosystem are summarized.",
      "metadata": {}
    },
    {
      "id": "d69ff11d-e8bb-43bf-8d5c-ace6967467fc",
      "cell_type": "markdown",
      "source": "**Objectives:**\n\n* List popular languages for data science\n* List commonly used libraries by data scientist\n* List open source data science tools",
      "metadata": {}
    },
    {
      "id": "358c1db9-5e64-462c-a336-282fd831e09a",
      "cell_type": "markdown",
      "source": "Some of the popular languages that Data Scientists use are:\n\n1. Python\n2. R\n3. SQL\n4. C++\n5. Java",
      "metadata": {}
    },
    {
      "id": "34027eb6-5990-4f32-aba2-a5d185c67974",
      "cell_type": "markdown",
      "source": "Some of the commonly used libraries used by Data Scientists include:\n1. Numpy\n2. Pandas\n3. Matplotlib.pyplot\n4. Seaborn\n5. Scipy\n6. sklearn\n7. keras",
      "metadata": {}
    },
    {
      "id": "a6923a66-acbe-40cf-9ab4-9f783ffca449",
      "cell_type": "markdown",
      "source": "| Data Science Tools |\n| ------------------ |\n| Jupyter Notebook   |\n| RStudio            |\n| Apache Zeppelin    |",
      "metadata": {}
    },
    {
      "id": "40f1692c-9eb9-4216-a1f3-ebad328214d6",
      "cell_type": "markdown",
      "source": "### Below are a few examples of evaluating arithmetic expressions in Python",
      "metadata": {}
    },
    {
      "id": "2b70e30f-704a-4d6e-90ce-cd522f37a565",
      "cell_type": "code",
      "source": "# This a simple arithmetic expression to mutiply then add integers\n(3*4)+5",
      "metadata": {
        "trusted": true
      },
      "outputs": [
        {
          "execution_count": 6,
          "output_type": "execute_result",
          "data": {
            "text/plain": "17"
          },
          "metadata": {}
        }
      ],
      "execution_count": 6
    },
    {
      "id": "08619e4d-96fb-41d4-a97b-3fc0847f958a",
      "cell_type": "code",
      "source": "# This will convert 200 minutes to hours by diving by 60\nminutes = 200\nhours = minutes / 60\nprint(hours)",
      "metadata": {
        "trusted": true
      },
      "outputs": [
        {
          "name": "stdout",
          "output_type": "stream",
          "text": "3.3333333333333335\n"
        }
      ],
      "execution_count": 8
    },
    {
      "id": "8473c766-e08c-484d-9d0f-1828ead1923b",
      "cell_type": "markdown",
      "source": "## Author\nYe Liu",
      "metadata": {}
    },
    {
      "id": "e6202f0d-c0da-467f-9a1c-15a2a757d39d",
      "cell_type": "code",
      "source": "",
      "metadata": {
        "trusted": true
      },
      "outputs": [],
      "execution_count": null
    }
  ]
}